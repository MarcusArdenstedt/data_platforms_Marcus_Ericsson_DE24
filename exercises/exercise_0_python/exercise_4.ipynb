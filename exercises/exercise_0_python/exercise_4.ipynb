{
 "cells": [
  {
   "cell_type": "markdown",
   "metadata": {},
   "source": [
    "# 4. Aggregating json data"
   ]
  },
  {
   "cell_type": "markdown",
   "metadata": {},
   "source": [
    "### Here we will do group by and sum aggregation without using pandas or sql, but plain python to practice the underlying mechanics behind the language."
   ]
  },
  {
   "cell_type": "markdown",
   "metadata": {},
   "source": [
    "**a)** Read in the file paid.json inside of the data folder. Hint: use load() function from the json library."
   ]
  },
  {
   "cell_type": "code",
   "execution_count": 7,
   "metadata": {},
   "outputs": [
    {
     "name": "stdout",
     "output_type": "stream",
     "text": [
      "[{'name': 'Alice', 'paid': 100}, {'name': 'Bob', 'paid': 200}, {'name': 'Alice', 'paid': 150}, {'name': 'Erik', 'paid': 180}, {'name': 'Maja', 'paid': 220}, {'name': 'Bob', 'paid': 180}, {'name': 'Alice', 'paid': 130}, {'name': 'Oskar', 'paid': 140}, {'name': 'Elsa', 'paid': 170}, {'name': 'Maja', 'paid': 250}, {'name': 'Liam', 'paid': 210}, {'name': 'Alice', 'paid': 190}, {'name': 'Astrid', 'paid': 190}, {'name': 'Elsa', 'paid': 150}, {'name': 'Bob', 'paid': 120}, {'name': 'Erik', 'paid': 200}, {'name': 'Maja', 'paid': 180}, {'name': 'Liam', 'paid': 170}, {'name': 'Bob', 'paid': 140}, {'name': 'Oskar', 'paid': 160}, {'name': 'Freja', 'paid': 240}, {'name': 'Hugo', 'paid': 250}, {'name': 'Freja', 'paid': 200}, {'name': 'Nils', 'paid': 130}, {'name': 'Freja', 'paid': 180}, {'name': 'Wilma', 'paid': 200}, {'name': 'Alexander', 'paid': 260}, {'name': 'Clara', 'paid': 280}, {'name': 'Alice', 'paid': 175}, {'name': 'Selma', 'paid': 175}, {'name': 'Erik', 'paid': 190}, {'name': 'Elias', 'paid': 190}]\n"
     ]
    }
   ],
   "source": [
    "import json\n",
    "\n",
    "# Definiera sökvägen till filen\n",
    "file_path = \"data/paid.json\"\n",
    "\n",
    "# Öppna och läs JSON-filen\n",
    "with open(file_path, \"r\") as file:\n",
    "    data = json.load(file)\n",
    "    \n",
    "# Kontrollera vad som finns i data    \n",
    "print(data)"
   ]
  },
  {
   "cell_type": "markdown",
   "metadata": {},
   "source": [
    "**b)**  Now group each name and sum over the total payment. Hint: use defaultdict(int) from collections library"
   ]
  },
  {
   "cell_type": "code",
   "execution_count": 10,
   "metadata": {},
   "outputs": [
    {
     "name": "stdout",
     "output_type": "stream",
     "text": [
      "defaultdict(<class 'int'>, {'Alice': 745, 'Bob': 640, 'Erik': 570, 'Maja': 650, 'Oskar': 300, 'Elsa': 320, 'Liam': 380, 'Astrid': 190, 'Freja': 620, 'Hugo': 250, 'Nils': 130, 'Wilma': 200, 'Alexander': 260, 'Clara': 280, 'Selma': 175, 'Elias': 190})\n",
      "{'Alice': 745, 'Bob': 640, 'Erik': 570, 'Maja': 650, 'Oskar': 300, 'Elsa': 320, 'Liam': 380, 'Astrid': 190, 'Freja': 620, 'Hugo': 250, 'Nils': 130, 'Wilma': 200, 'Alexander': 260, 'Clara': 280, 'Selma': 175, 'Elias': 190}\n"
     ]
    }
   ],
   "source": [
    "from collections import defaultdict\n",
    "\n",
    "# Skapa en defaultdict för att summera betalningar per namn\n",
    "group_payments = defaultdict(int)\n",
    "\n",
    "# iterera genom varje post och summera betalning\n",
    "for entry in data:\n",
    "    name = entry[\"name\"]\n",
    "    payment = entry[\"paid\"]\n",
    "    group_payments[name] += payment\n",
    "\n",
    "# Visa resultatet\n",
    "print(group_payments)\n",
    "\n",
    "# Om du vill visa som vanlig dictionary\n",
    "print(dict(group_payments))\n"
   ]
  },
  {
   "cell_type": "markdown",
   "metadata": {},
   "source": [
    "**c)** Output the result into a new json file called payment_sum.json."
   ]
  },
  {
   "cell_type": "code",
   "execution_count": 20,
   "metadata": {},
   "outputs": [
    {
     "name": "stdout",
     "output_type": "stream",
     "text": [
      "Resultatet har skrivits till data/payment_sum.json\n"
     ]
    }
   ],
   "source": [
    "# konvertera defaultdict till en vanlig dictionary\n",
    "reuslt_dict = dict(group_payments)\n",
    "\n",
    "\n",
    "# Skriv till en JSON-fil\n",
    "output_file = \"data/payment_sum.json\"\n",
    "with open(output_file, \"w\") as file:\n",
    "    json.dump(reuslt_dict, file, indent=4)    # indent = 4 gör json lättläst\n",
    "    \n",
    "# Print filen har sparats som json format\n",
    "print(f\"Resultatet har skrivits till {output_file}\") "
   ]
  }
 ],
 "metadata": {
  "kernelspec": {
   "display_name": ".venv",
   "language": "python",
   "name": "python3"
  },
  "language_info": {
   "codemirror_mode": {
    "name": "ipython",
    "version": 3
   },
   "file_extension": ".py",
   "mimetype": "text/x-python",
   "name": "python",
   "nbconvert_exporter": "python",
   "pygments_lexer": "ipython3",
   "version": "3.12.5"
  }
 },
 "nbformat": 4,
 "nbformat_minor": 2
}
