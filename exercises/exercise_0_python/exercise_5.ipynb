{
 "cells": [
  {
   "cell_type": "markdown",
   "metadata": {},
   "source": [
    "# 5. Simulating data streams"
   ]
  },
  {
   "cell_type": "markdown",
   "metadata": {},
   "source": [
    "### In this task we will simulate data streams and process it.\n",
    "\n",
    "```py\n",
    "simualated_stream = [\"record1\", \"record2\", \"record3\", \"record4\", \"STOP\", \"record5\"]\n",
    "```\n",
    "\n",
    "Based on this simulated stream, print out the result `processed record` if the record is not the STOP signal. Print out with 1 second delay between each processed record.\n",
    "\n",
    "Output for this example is:\n",
    "\n",
    "```\n",
    "Starting data stream srocessing...\n",
    "\n",
    "Processed: record1\n",
    "Processed: record2\n",
    "Processed: record3\n",
    "Processed: record4\n",
    "STOP signal encountered. Ending stream processing.\n",
    "\n",
    "Data stream processing completed. Have a nice day"
   ]
  },
  {
   "cell_type": "code",
   "execution_count": 6,
   "metadata": {},
   "outputs": [
    {
     "name": "stdout",
     "output_type": "stream",
     "text": [
      "Starting data stream processing...\n",
      "\n",
      "Processed record1\n",
      "Processed record2\n",
      "Processed record3\n",
      "Processed record4\n",
      "STOP signal encountered. Ending stream processing.\n",
      "\n",
      "Data stream processing completed. Have a nice day!\n"
     ]
    }
   ],
   "source": [
    "import time\n",
    "\n",
    "simulated_stream = [\"record1\", \"record2\", \"record3\", \"record4\", \"STOP\", \"record5\"]\n",
    "\n",
    "print(\"Starting data stream processing...\\n\")\n",
    "time.sleep(2)\n",
    "\n",
    "# iterate through simulated_stream to find stop and using after each output time.sleep() to delay.\n",
    "for record in simulated_stream:\n",
    "    if record == \"STOP\":\n",
    "        print(\"STOP signal encountered. Ending stream processing.\")\n",
    "        break\n",
    "    print(f\"Processed {record}\")\n",
    "    time.sleep(1)\n",
    "    \n",
    "print(\"\\nData stream processing completed. Have a nice day!\")"
   ]
  }
 ],
 "metadata": {
  "kernelspec": {
   "display_name": ".venv",
   "language": "python",
   "name": "python3"
  },
  "language_info": {
   "codemirror_mode": {
    "name": "ipython",
    "version": 3
   },
   "file_extension": ".py",
   "mimetype": "text/x-python",
   "name": "python",
   "nbconvert_exporter": "python",
   "pygments_lexer": "ipython3",
   "version": "3.12.5"
  }
 },
 "nbformat": 4,
 "nbformat_minor": 2
}
