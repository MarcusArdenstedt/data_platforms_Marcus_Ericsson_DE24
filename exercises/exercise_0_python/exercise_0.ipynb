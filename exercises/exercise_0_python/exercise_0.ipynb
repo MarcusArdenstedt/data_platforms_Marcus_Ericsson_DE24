{
 "cells": [
  {
   "cell_type": "markdown",
   "metadata": {},
   "source": [
    "# Exerccise - 0 Python "
   ]
  },
  {
   "cell_type": "markdown",
   "metadata": {},
   "source": [
    "## 0) User input for ETL parameters   "
   ]
  },
  {
   "cell_type": "markdown",
   "metadata": {},
   "source": [
    "Ask for two inputs:\n",
    "- source file path\n",
    "- destination file path \n",
    " "
   ]
  },
  {
   "cell_type": "code",
   "execution_count": 2,
   "metadata": {},
   "outputs": [
    {
     "name": "stdout",
     "output_type": "stream",
     "text": [
      "soruce: /Users/Marcus/Documents/STI/data_platforms/github/data_platforms_Marcus_Ericsson_DE24/exercises/exercise_0_python/input_data.csv\n",
      "destination: /Users/Marcus/Documents/STI/data_platforms/github/data_platforms_Marcus_Ericsson_DE24/exercises/exercise_0_python/output_data.csv \n"
     ]
    }
   ],
   "source": [
    "source_path = input(\"Enter the source path\")\n",
    "destination_path = input(\"Enter your destination path\")\n",
    "\n",
    "# /Users/Marcus/Documents/STI/data_platforms/github/data_platforms_Marcus_Ericsson_DE24/exercises/exercise_0_python/input_data.csv\n",
    "# /Users/Marcus/Documents/STI/data_platforms/github/data_platforms_Marcus_Ericsson_DE24/exercises/exercise_0_python/output_data.csv \n",
    "\n",
    "print(f\"soruce: {source_path}\")\n",
    "print(f\"destination: {destination_path}\")\n",
    "\n"
   ]
  },
  {
   "cell_type": "code",
   "execution_count": null,
   "metadata": {},
   "outputs": [],
   "source": []
  }
 ],
 "metadata": {
  "kernelspec": {
   "display_name": ".venv",
   "language": "python",
   "name": "python3"
  },
  "language_info": {
   "codemirror_mode": {
    "name": "ipython",
    "version": 3
   },
   "file_extension": ".py",
   "mimetype": "text/x-python",
   "name": "python",
   "nbconvert_exporter": "python",
   "pygments_lexer": "ipython3",
   "version": "3.12.5"
  }
 },
 "nbformat": 4,
 "nbformat_minor": 2
}
