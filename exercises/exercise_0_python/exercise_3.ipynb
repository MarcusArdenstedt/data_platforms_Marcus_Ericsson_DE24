{
 "cells": [
  {
   "cell_type": "markdown",
   "metadata": {},
   "source": [
    "# 3. Extract data from logs"
   ]
  },
  {
   "cell_type": "markdown",
   "metadata": {},
   "source": [
    "### In data engineering, log files and log messages are very common. Sometimes you need to parse them to find valuable information, for example for debugging reasons.\n",
    "\n",
    "Read in network.log and extract source IP, destination IP, protocol and data size."
   ]
  },
  {
   "cell_type": "code",
   "execution_count": 5,
   "metadata": {},
   "outputs": [
    {
     "name": "stdout",
     "output_type": "stream",
     "text": [
      "Source: 10.0.0.1 | Destination: 10.0.0.2 | Protocol: TCP | Bytes: 1024\n",
      "Source: 10.0.0.2 | Destination: 10.0.0.3 | Protocol: UDP | Bytes: 2048\n",
      "Source: 10.0.0.3 | Destination: 10.0.0.1 | Protocol: TCP | Bytes: 512\n",
      "\n",
      "Data Transfer summary:\n",
      "TCP: 1536 bytes\n",
      "UDP: 2048 bytes\n"
     ]
    }
   ],
   "source": [
    "import re\n",
    "from collections import defaultdict\n",
    "\n",
    "# Dictionary to store total bytes per protocol\n",
    "protocol_totals = defaultdict(int)\n",
    "\n",
    "# open and read the file \n",
    "with open(\"data/network.log\", \"r\") as file:\n",
    "    lines = file.readlines()\n",
    "\n",
    "# Process each line\n",
    "for line in lines:\n",
    "    # Use regex to extract fields: Source IP, Destination IP, Protocol, Bytes\n",
    "    match = re.search(r'Source: (\\d+\\.\\d+\\.\\d+\\.\\d) .* Destination: (\\d+\\.\\d+\\.\\d+\\.\\d+) .* Protocol: (\\w+) .* Bytes: (\\d+)', line)\n",
    "    \n",
    "    if match:\n",
    "        source_ip = match.group(1)\n",
    "        destination_ip = match.group(2)\n",
    "        protocol = match.group(3)\n",
    "        bytes_transferred = int(match.group(4))\n",
    "        \n",
    "        # Print each line in the desired format\n",
    "        print(f\"Source: {source_ip} | Destination: {destination_ip} | Protocol: {protocol} | Bytes: {bytes_transferred}\")\n",
    "        \n",
    "        \n",
    "        # Update totals for the protocol\n",
    "        protocol_totals[protocol] += bytes_transferred\n",
    "        \n",
    "# print summary \n",
    "print(\"\\nData Transfer summary:\")\n",
    "for protocol, total_bytes in protocol_totals.items():\n",
    "    print(f\"{protocol}: {total_bytes} bytes\")\n"
   ]
  }
 ],
 "metadata": {
  "kernelspec": {
   "display_name": ".venv",
   "language": "python",
   "name": "python3"
  },
  "language_info": {
   "codemirror_mode": {
    "name": "ipython",
    "version": 3
   },
   "file_extension": ".py",
   "mimetype": "text/x-python",
   "name": "python",
   "nbconvert_exporter": "python",
   "pygments_lexer": "ipython3",
   "version": "3.12.5"
  }
 },
 "nbformat": 4,
 "nbformat_minor": 2
}
