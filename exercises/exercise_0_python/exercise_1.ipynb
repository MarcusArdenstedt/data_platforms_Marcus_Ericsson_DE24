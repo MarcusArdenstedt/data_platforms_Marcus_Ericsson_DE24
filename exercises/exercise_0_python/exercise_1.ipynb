{
 "cells": [
  {
   "cell_type": "markdown",
   "metadata": {},
   "source": [
    "# 1. Schema validation "
   ]
  },
  {
   "cell_type": "markdown",
   "metadata": {},
   "source": [
    "### In order to maintain data quality, consistency and reliability, a system needs to validate that it conforms to certain predefined structure or format. This is called schema validation and you'll practice this in the following exercises."
   ]
  },
  {
   "cell_type": "markdown",
   "metadata": {},
   "source": [
    "**a)** Create a dictionary that look like this\n",
    "\n",
    "| Key       | Value |\n",
    "| --------- | ----- |\n",
    "| id        | 101   |\n",
    "| name      | Erika |\n",
    "| is_active | True  |\n",
    "| age       | 45    |\n"
   ]
  },
  {
   "cell_type": "code",
   "execution_count": 122,
   "metadata": {},
   "outputs": [
    {
     "data": {
      "text/plain": [
       "{'id': 101, 'name': 'Erika', 'is_active': True, 'age': 45}"
      ]
     },
     "execution_count": 122,
     "metadata": {},
     "output_type": "execute_result"
    }
   ],
   "source": [
    "record = dict(id=101, name=\"Erika\", is_active=True, age=45)\n",
    "record"
   ]
  },
  {
   "cell_type": "markdown",
   "metadata": {},
   "source": [
    "**b)** Validate that the id is integer, name is string, is_active is boolean and age is integer. It should return true if valid and false if not valid."
   ]
  },
  {
   "cell_type": "code",
   "execution_count": 123,
   "metadata": {},
   "outputs": [
    {
     "data": {
      "text/plain": [
       "({'id': 101, 'name': 'Erika', 'is_active': True, 'age': 45}, dict)"
      ]
     },
     "execution_count": 123,
     "metadata": {},
     "output_type": "execute_result"
    }
   ],
   "source": [
    "record ,type(record)"
   ]
  },
  {
   "cell_type": "code",
   "execution_count": 124,
   "metadata": {},
   "outputs": [],
   "source": [
    "schema = {\"id\" : int, \"name\": str, \"is_active\": bool, \"age\": int}\n",
    "\n"
   ]
  },
  {
   "cell_type": "code",
   "execution_count": 125,
   "metadata": {},
   "outputs": [
    {
     "data": {
      "text/plain": [
       "(101, int, True, bool)"
      ]
     },
     "execution_count": 125,
     "metadata": {},
     "output_type": "execute_result"
    }
   ],
   "source": [
    "record[\"id\"],schema[\"id\"], record[\"is_active\"],schema[\"is_active\"]"
   ]
  },
  {
   "cell_type": "code",
   "execution_count": 126,
   "metadata": {},
   "outputs": [
    {
     "data": {
      "text/plain": [
       "True"
      ]
     },
     "execution_count": 126,
     "metadata": {},
     "output_type": "execute_result"
    }
   ],
   "source": [
    "type(record[\"id\"]) == schema[\"id\"]\n",
    "    "
   ]
  },
  {
   "cell_type": "code",
   "execution_count": 127,
   "metadata": {},
   "outputs": [
    {
     "name": "stdout",
     "output_type": "stream",
     "text": [
      "True\n",
      "True\n",
      "True\n",
      "True\n"
     ]
    }
   ],
   "source": [
    "for key in record:\n",
    "    if type(record[key]) == schema[key]:\n",
    "        print(True)"
   ]
  },
  {
   "cell_type": "code",
   "execution_count": 128,
   "metadata": {},
   "outputs": [
    {
     "data": {
      "text/plain": [
       "(True, False)"
      ]
     },
     "execution_count": 128,
     "metadata": {},
     "output_type": "execute_result"
    }
   ],
   "source": [
    "type(record[\"id\"]) == schema[\"id\"], type(record[\"is_active\"]) == schema[\"id\"]"
   ]
  },
  {
   "cell_type": "code",
   "execution_count": 129,
   "metadata": {},
   "outputs": [
    {
     "data": {
      "text/plain": [
       "False"
      ]
     },
     "execution_count": 129,
     "metadata": {},
     "output_type": "execute_result"
    }
   ],
   "source": [
    "isinstance(record[\"id\"], str)"
   ]
  },
  {
   "cell_type": "markdown",
   "metadata": {},
   "source": [
    "**solution with for statement**"
   ]
  },
  {
   "cell_type": "code",
   "execution_count": 130,
   "metadata": {},
   "outputs": [
    {
     "data": {
      "text/plain": [
       "True"
      ]
     },
     "execution_count": 130,
     "metadata": {},
     "output_type": "execute_result"
    }
   ],
   "source": [
    "validation_list = []\n",
    "for key, data_type in schema.items():\n",
    "    # print(record[key], data_type)\n",
    "    \n",
    "    validation_list.append(isinstance(record[key], data_type))\n",
    "    \n",
    "    \n",
    "    \n",
    "all(validation_list)\n",
    "    "
   ]
  },
  {
   "cell_type": "code",
   "execution_count": 131,
   "metadata": {},
   "outputs": [
    {
     "data": {
      "text/plain": [
       "(False, True)"
      ]
     },
     "execution_count": 131,
     "metadata": {},
     "output_type": "execute_result"
    }
   ],
   "source": [
    "all([True, False]), any([True, False])"
   ]
  },
  {
   "cell_type": "markdown",
   "metadata": {},
   "source": [
    "**alternative with list comprehension**"
   ]
  },
  {
   "cell_type": "code",
   "execution_count": 132,
   "metadata": {},
   "outputs": [
    {
     "data": {
      "text/plain": [
       "True"
      ]
     },
     "execution_count": 132,
     "metadata": {},
     "output_type": "execute_result"
    }
   ],
   "source": [
    "\n",
    "all([isinstance(record[key], data_type) for key, data_type in schema.items()])"
   ]
  },
  {
   "cell_type": "markdown",
   "metadata": {},
   "source": [
    "**c)** The dictionary created can be seen as one row, now lets create more records and store each record (dictionary) in a list.\n",
    "\n",
    "| id  | name   | is_active | age  |\n",
    "| --- | ------ | --------- | ---- |\n",
    "| 102 | Marcus | True      | 34   |\n",
    "| 103 | David  | False     | 29   |\n",
    "| 104 | Anna   | True      | 41.5 |\n",
    "| 106 | Ingrid | NOPE      | 8    \n"
   ]
  },
  {
   "cell_type": "code",
   "execution_count": 133,
   "metadata": {},
   "outputs": [
    {
     "data": {
      "text/plain": [
       "([34, 29, 41.5, 8], dict)"
      ]
     },
     "execution_count": 133,
     "metadata": {},
     "output_type": "execute_result"
    }
   ],
   "source": [
    "record_list = dict(\n",
    "    id=[102, 103, 104, 106],\n",
    "    name=[\"Marcus\", \"David\", \"Anna\", \"Ingrid\"],\n",
    "    is_active=[True, False, True, \"Nope\"],\n",
    "    age=[34, 29, 41.5, 8],\n",
    ")\n",
    "\n",
    "record_list[key], type(record)"
   ]
  },
  {
   "cell_type": "code",
   "execution_count": 134,
   "metadata": {},
   "outputs": [
    {
     "data": {
      "text/plain": [
       "(True, False)"
      ]
     },
     "execution_count": 134,
     "metadata": {},
     "output_type": "execute_result"
    }
   ],
   "source": [
    "schema = {\"id\": int, \"name\": str, \"is_active\": bool, \"age\": int}\n",
    "\n",
    "isinstance(record_list[\"id\"][0], int), isinstance(record_list[\"age\"][2], int)"
   ]
  },
  {
   "cell_type": "code",
   "execution_count": 138,
   "metadata": {},
   "outputs": [
    {
     "name": "stdout",
     "output_type": "stream",
     "text": [
      "{'id': True}\n",
      "{'name': True}\n",
      "{'is_active': False}\n",
      "{'age': False}\n"
     ]
    }
   ],
   "source": [
    "validation_list_2 = []\n",
    "\n",
    "for key, data_type in schema.items():\n",
    "    validation_result = [isinstance(value,data_type) for value in record_list[key]]\n",
    "    validation_list_2.append({key: all(validation_result)})\n",
    "\n",
    "\n",
    "for result in validation_list_2:\n",
    "    print(result)"
   ]
  },
  {
   "cell_type": "markdown",
   "metadata": {},
   "source": [
    "**d)** Make a function for schema validation and try input the two examples and see if you get correct answer. Also make other examples and test your function."
   ]
  },
  {
   "cell_type": "code",
   "execution_count": 1,
   "metadata": {},
   "outputs": [],
   "source": [
    "def validation_schema(data, schema):\n",
    "    validation_result = {}\n",
    "    \n",
    "    for key, expected_type in schema.items():\n",
    "        if key not in data:\n",
    "            validation_result[key] = \"Key missing in data\"\n",
    "            \n",
    "        else:\n",
    "            validation_result[key] = [isinstance(value, expected_type) for value in data[key]]\n",
    "   \n",
    "    return validation_result\n",
    "\n",
    "record_dict = dict(\n",
    "    id=[102, 103, 104, 106],\n",
    "    name=[\"Marcus\", \"David\", \"Anna\", \"Ingrid\"],\n",
    "    is_active=[True, False, True, \"Nope\"],\n",
    "    age=[34, 29, 41.5, 8],\n",
    ")\n",
    "\n",
    "test_ = {\"id\": [1], \"name\": [\"Bob\"], \"is_active\": [\"Nope\"], \"age\": [35]}\n",
    "schema = {\"id\": int, \"name\": str, \"is_active\": bool, \"age\": int}\n",
    "\n"
   ]
  },
  {
   "cell_type": "code",
   "execution_count": 2,
   "metadata": {},
   "outputs": [
    {
     "name": "stdout",
     "output_type": "stream",
     "text": [
      "{'id': [True], 'name': [True], 'is_active': [False], 'age': [True]}\n"
     ]
    }
   ],
   "source": [
    "print(validation_schema(test_, schema))"
   ]
  },
  {
   "cell_type": "markdown",
   "metadata": {},
   "source": [
    "## Test "
   ]
  },
  {
   "cell_type": "code",
   "execution_count": 213,
   "metadata": {},
   "outputs": [
    {
     "data": {
      "text/plain": [
       "(True, False)"
      ]
     },
     "execution_count": 213,
     "metadata": {},
     "output_type": "execute_result"
    }
   ],
   "source": [
    "fotball_players = dict(\n",
    "    nr=[7, 8, 10, 12, 14, 16],\n",
    "    name=[\"Kent\", \"Charlie\", 5, \"Bob\", \"John\", \"Max\"],\n",
    "    is_active=[True, True, \"Nope\", False, True, True],\n",
    "    age=[25, 27, 38, 45, 30, 27],\n",
    ")\n",
    "fotball_players, type(fotball_players)\n",
    "\n",
    "schema_ = {\"nr\": int, \"name\": str, \"is_active\": bool, \"age\": int}\n",
    "\n",
    "isinstance(fotball_players[\"nr\"][0], schema_[\"nr\"]), isinstance(fotball_players[\"is_active\"][2], schema_[\"is_active\"])"
   ]
  },
  {
   "cell_type": "code",
   "execution_count": 214,
   "metadata": {},
   "outputs": [],
   "source": [
    "def validation_schema_(data, schema):\n",
    "    validation_result = {}\n",
    "    for key, expected_data_type in schema.items():\n",
    "        if key not in data:\n",
    "            validation_result[key] = \"key don't existed\"\n",
    "        else:\n",
    "            validation_result[key] = [all(isinstance(value, expected_data_type) for value in data[key])]\n",
    "    \n",
    "    return validation_result"
   ]
  },
  {
   "cell_type": "code",
   "execution_count": 215,
   "metadata": {},
   "outputs": [
    {
     "name": "stdout",
     "output_type": "stream",
     "text": [
      "{'nr': [True], 'name': [False], 'is_active': [False], 'age': [True]}\n"
     ]
    }
   ],
   "source": [
    "print(validation_schema_(fotball_players, schema_))"
   ]
  }
 ],
 "metadata": {
  "kernelspec": {
   "display_name": ".venv",
   "language": "python",
   "name": "python3"
  },
  "language_info": {
   "codemirror_mode": {
    "name": "ipython",
    "version": 3
   },
   "file_extension": ".py",
   "mimetype": "text/x-python",
   "name": "python",
   "nbconvert_exporter": "python",
   "pygments_lexer": "ipython3",
   "version": "3.12.5"
  }
 },
 "nbformat": 4,
 "nbformat_minor": 2
}
