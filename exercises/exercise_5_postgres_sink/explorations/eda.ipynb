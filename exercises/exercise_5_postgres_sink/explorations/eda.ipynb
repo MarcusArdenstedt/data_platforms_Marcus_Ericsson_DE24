{
 "cells": [
  {
   "cell_type": "markdown",
   "metadata": {},
   "source": [
    "# EDA on coins data"
   ]
  },
  {
   "cell_type": "code",
   "execution_count": 2,
   "metadata": {},
   "outputs": [
    {
     "data": {
      "text/plain": [
       "{'status': {'timestamp': '2025-02-08T10:30:29.788Z',\n",
       "  'error_code': 0,\n",
       "  'error_message': None,\n",
       "  'elapsed': 20,\n",
       "  'credit_count': 1,\n",
       "  'notice': None},\n",
       " 'data': {'BNB': {'id': 1839,\n",
       "   'name': 'BNB',\n",
       "   'symbol': 'BNB',\n",
       "   'slug': 'bnb',\n",
       "   'num_market_pairs': 2350,\n",
       "   'date_added': '2017-07-25T00:00:00.000Z',\n",
       "   'tags': ['marketplace',\n",
       "    'centralized-exchange',\n",
       "    'payments',\n",
       "    'smart-contracts',\n",
       "    'ethereum-ecosystem',\n",
       "    'alameda-research-portfolio',\n",
       "    'multicoin-capital-portfolio',\n",
       "    'bnb-chain-ecosystem',\n",
       "    'layer-1',\n",
       "    'alleged-sec-securities',\n",
       "    'celsius-bankruptcy-estate'],\n",
       "   'max_supply': None,\n",
       "   'circulating_supply': 142480135.98,\n",
       "   'total_supply': 142480135.98,\n",
       "   'is_active': 1,\n",
       "   'infinite_supply': False,\n",
       "   'platform': None,\n",
       "   'cmc_rank': 6,\n",
       "   'is_fiat': 0,\n",
       "   'self_reported_circulating_supply': None,\n",
       "   'self_reported_market_cap': None,\n",
       "   'tvl_ratio': None,\n",
       "   'last_updated': '2025-02-08T10:29:00.000Z',\n",
       "   'quote': {'USD': {'price': 580.4759593550814,\n",
       "     'volume_24h': 1505493220.424626,\n",
       "     'volume_change_24h': -16.7148,\n",
       "     'percent_change_1h': 0.30709634,\n",
       "     'percent_change_24h': -1.01126071,\n",
       "     'percent_change_7d': -13.39211008,\n",
       "     'percent_change_30d': -16.67245149,\n",
       "     'percent_change_60d': -17.40103355,\n",
       "     'percent_change_90d': -8.45201621,\n",
       "     'market_cap': 82706293622.03294,\n",
       "     'market_cap_dominance': 2.6387,\n",
       "     'fully_diluted_market_cap': 82706293622.03,\n",
       "     'tvl': None,\n",
       "     'last_updated': '2025-02-08T10:29:00.000Z'}}}}}"
      ]
     },
     "execution_count": 2,
     "metadata": {},
     "output_type": "execute_result"
    }
   ],
   "source": [
    "\n",
    "from requests import Request, Session\n",
    "from requests.exceptions import ConnectionError, Timeout, TooManyRedirects\n",
    "import json\n",
    "import os\n",
    "from dotenv import load_dotenv\n",
    "from pprint import pprint\n",
    "\n",
    "load_dotenv()\n",
    "\n",
    "API_URL = \"https://pro-api.coinmarketcap.com/v1/cryptocurrency/quotes/latest\"\n",
    "\n",
    "API_KEY = os.getenv(\"COINMARKET_API\")\n",
    "\n",
    "\n",
    "\n",
    "target_symbol = \"BNB\"\n",
    "\n",
    "parameters = {\n",
    "  \"symbol\": target_symbol,\n",
    "  'convert':'USD'\n",
    "}\n",
    "headers = {\n",
    "  'Accepts': 'application/json',\n",
    "  'X-CMC_PRO_API_KEY': API_KEY,\n",
    "}\n",
    "\n",
    "session = Session()\n",
    "session.headers.update(headers)\n",
    "\n",
    "response = session.get(API_URL, params=parameters)\n",
    "data = json.loads(response.text)\n",
    "\n",
    "data\n",
    "\n"
   ]
  },
  {
   "cell_type": "code",
   "execution_count": 3,
   "metadata": {},
   "outputs": [
    {
     "data": {
      "text/plain": [
       "dict_keys(['status', 'data'])"
      ]
     },
     "execution_count": 3,
     "metadata": {},
     "output_type": "execute_result"
    }
   ],
   "source": [
    "data.keys()"
   ]
  },
  {
   "cell_type": "code",
   "execution_count": 4,
   "metadata": {},
   "outputs": [
    {
     "data": {
      "text/plain": [
       "dict_keys(['id', 'name', 'symbol', 'slug', 'num_market_pairs', 'date_added', 'tags', 'max_supply', 'circulating_supply', 'total_supply', 'is_active', 'infinite_supply', 'platform', 'cmc_rank', 'is_fiat', 'self_reported_circulating_supply', 'self_reported_market_cap', 'tvl_ratio', 'last_updated', 'quote'])"
      ]
     },
     "execution_count": 4,
     "metadata": {},
     "output_type": "execute_result"
    }
   ],
   "source": [
    "data[\"data\"][\"BNB\"].keys()"
   ]
  },
  {
   "cell_type": "code",
   "execution_count": 5,
   "metadata": {},
   "outputs": [
    {
     "data": {
      "text/plain": [
       "{'USD': {'price': 580.4759593550814,\n",
       "  'volume_24h': 1505493220.424626,\n",
       "  'volume_change_24h': -16.7148,\n",
       "  'percent_change_1h': 0.30709634,\n",
       "  'percent_change_24h': -1.01126071,\n",
       "  'percent_change_7d': -13.39211008,\n",
       "  'percent_change_30d': -16.67245149,\n",
       "  'percent_change_60d': -17.40103355,\n",
       "  'percent_change_90d': -8.45201621,\n",
       "  'market_cap': 82706293622.03294,\n",
       "  'market_cap_dominance': 2.6387,\n",
       "  'fully_diluted_market_cap': 82706293622.03,\n",
       "  'tvl': None,\n",
       "  'last_updated': '2025-02-08T10:29:00.000Z'}}"
      ]
     },
     "execution_count": 5,
     "metadata": {},
     "output_type": "execute_result"
    }
   ],
   "source": [
    "quote_BNB = data[\"data\"][\"BNB\"][\"quote\"]\n",
    "quote_BNB"
   ]
  },
  {
   "cell_type": "code",
   "execution_count": 6,
   "metadata": {},
   "outputs": [
    {
     "data": {
      "text/plain": [
       "{'id': 1839,\n",
       " 'name': 'BNB',\n",
       " 'symbol': 'BNB',\n",
       " 'slug': 'bnb',\n",
       " 'num_market_pairs': 2350,\n",
       " 'date_added': '2017-07-25T00:00:00.000Z',\n",
       " 'tags': ['marketplace',\n",
       "  'centralized-exchange',\n",
       "  'payments',\n",
       "  'smart-contracts',\n",
       "  'ethereum-ecosystem',\n",
       "  'alameda-research-portfolio',\n",
       "  'multicoin-capital-portfolio',\n",
       "  'bnb-chain-ecosystem',\n",
       "  'layer-1',\n",
       "  'alleged-sec-securities',\n",
       "  'celsius-bankruptcy-estate'],\n",
       " 'max_supply': None,\n",
       " 'circulating_supply': 142480135.98,\n",
       " 'total_supply': 142480135.98,\n",
       " 'is_active': 1,\n",
       " 'infinite_supply': False,\n",
       " 'platform': None,\n",
       " 'cmc_rank': 6,\n",
       " 'is_fiat': 0,\n",
       " 'self_reported_circulating_supply': None,\n",
       " 'self_reported_market_cap': None,\n",
       " 'tvl_ratio': None,\n",
       " 'last_updated': '2025-02-08T10:29:00.000Z',\n",
       " 'quote': {'USD': {'price': 580.4759593550814,\n",
       "   'volume_24h': 1505493220.424626,\n",
       "   'volume_change_24h': -16.7148,\n",
       "   'percent_change_1h': 0.30709634,\n",
       "   'percent_change_24h': -1.01126071,\n",
       "   'percent_change_7d': -13.39211008,\n",
       "   'percent_change_30d': -16.67245149,\n",
       "   'percent_change_60d': -17.40103355,\n",
       "   'percent_change_90d': -8.45201621,\n",
       "   'market_cap': 82706293622.03294,\n",
       "   'market_cap_dominance': 2.6387,\n",
       "   'fully_diluted_market_cap': 82706293622.03,\n",
       "   'tvl': None,\n",
       "   'last_updated': '2025-02-08T10:29:00.000Z'}}}"
      ]
     },
     "execution_count": 6,
     "metadata": {},
     "output_type": "execute_result"
    }
   ],
   "source": [
    "data[\"data\"][\"BNB\"]"
   ]
  },
  {
   "cell_type": "code",
   "execution_count": 7,
   "metadata": {},
   "outputs": [
    {
     "data": {
      "text/plain": [
       "{'id': 1839,\n",
       " 'name': 'BNB',\n",
       " 'symbol': 'BNB',\n",
       " 'slug': 'bnb',\n",
       " 'num_market_pairs': 2350,\n",
       " 'date_added': '2017-07-25T00:00:00.000Z',\n",
       " 'tags': ['marketplace',\n",
       "  'centralized-exchange',\n",
       "  'payments',\n",
       "  'smart-contracts',\n",
       "  'ethereum-ecosystem',\n",
       "  'alameda-research-portfolio',\n",
       "  'multicoin-capital-portfolio',\n",
       "  'bnb-chain-ecosystem',\n",
       "  'layer-1',\n",
       "  'alleged-sec-securities',\n",
       "  'celsius-bankruptcy-estate'],\n",
       " 'max_supply': None,\n",
       " 'circulating_supply': 142480135.98,\n",
       " 'total_supply': 142480135.98,\n",
       " 'is_active': 1,\n",
       " 'infinite_supply': False,\n",
       " 'platform': None,\n",
       " 'cmc_rank': 6,\n",
       " 'is_fiat': 0,\n",
       " 'self_reported_circulating_supply': None,\n",
       " 'self_reported_market_cap': None,\n",
       " 'tvl_ratio': None,\n",
       " 'last_updated': '2025-02-08T10:29:00.000Z',\n",
       " 'quote': {'USD': {'price': 580.4759593550814,\n",
       "   'volume_24h': 1505493220.424626,\n",
       "   'volume_change_24h': -16.7148,\n",
       "   'percent_change_1h': 0.30709634,\n",
       "   'percent_change_24h': -1.01126071,\n",
       "   'percent_change_7d': -13.39211008,\n",
       "   'percent_change_30d': -16.67245149,\n",
       "   'percent_change_60d': -17.40103355,\n",
       "   'percent_change_90d': -8.45201621,\n",
       "   'market_cap': 82706293622.03294,\n",
       "   'market_cap_dominance': 2.6387,\n",
       "   'fully_diluted_market_cap': 82706293622.03,\n",
       "   'tvl': None,\n",
       "   'last_updated': '2025-02-08T10:29:00.000Z'}}}"
      ]
     },
     "execution_count": 7,
     "metadata": {},
     "output_type": "execute_result"
    }
   ],
   "source": [
    "data[\"data\"][\"BNB\"]"
   ]
  },
  {
   "cell_type": "code",
   "execution_count": 8,
   "metadata": {},
   "outputs": [
    {
     "data": {
      "text/plain": [
       "{'status': {'timestamp': '2025-02-08T10:30:29.788Z',\n",
       "  'error_code': 0,\n",
       "  'error_message': None,\n",
       "  'elapsed': 20,\n",
       "  'credit_count': 1,\n",
       "  'notice': None},\n",
       " 'data': {'BNB': {'id': 1839,\n",
       "   'name': 'BNB',\n",
       "   'symbol': 'BNB',\n",
       "   'slug': 'bnb',\n",
       "   'num_market_pairs': 2350,\n",
       "   'date_added': '2017-07-25T00:00:00.000Z',\n",
       "   'tags': ['marketplace',\n",
       "    'centralized-exchange',\n",
       "    'payments',\n",
       "    'smart-contracts',\n",
       "    'ethereum-ecosystem',\n",
       "    'alameda-research-portfolio',\n",
       "    'multicoin-capital-portfolio',\n",
       "    'bnb-chain-ecosystem',\n",
       "    'layer-1',\n",
       "    'alleged-sec-securities',\n",
       "    'celsius-bankruptcy-estate'],\n",
       "   'max_supply': None,\n",
       "   'circulating_supply': 142480135.98,\n",
       "   'total_supply': 142480135.98,\n",
       "   'is_active': 1,\n",
       "   'infinite_supply': False,\n",
       "   'platform': None,\n",
       "   'cmc_rank': 6,\n",
       "   'is_fiat': 0,\n",
       "   'self_reported_circulating_supply': None,\n",
       "   'self_reported_market_cap': None,\n",
       "   'tvl_ratio': None,\n",
       "   'last_updated': '2025-02-08T10:29:00.000Z',\n",
       "   'quote': {'USD': {'price': 580.4759593550814,\n",
       "     'volume_24h': 1505493220.424626,\n",
       "     'volume_change_24h': -16.7148,\n",
       "     'percent_change_1h': 0.30709634,\n",
       "     'percent_change_24h': -1.01126071,\n",
       "     'percent_change_7d': -13.39211008,\n",
       "     'percent_change_30d': -16.67245149,\n",
       "     'percent_change_60d': -17.40103355,\n",
       "     'percent_change_90d': -8.45201621,\n",
       "     'market_cap': 82706293622.03294,\n",
       "     'market_cap_dominance': 2.6387,\n",
       "     'fully_diluted_market_cap': 82706293622.03,\n",
       "     'tvl': None,\n",
       "     'last_updated': '2025-02-08T10:29:00.000Z'}}}}}"
      ]
     },
     "execution_count": 8,
     "metadata": {},
     "output_type": "execute_result"
    }
   ],
   "source": [
    "data"
   ]
  },
  {
   "cell_type": "code",
   "execution_count": 10,
   "metadata": {},
   "outputs": [
    {
     "ename": "KeyError",
     "evalue": "'name'",
     "output_type": "error",
     "traceback": [
      "\u001b[1;31m---------------------------------------------------------------------------\u001b[0m",
      "\u001b[1;31mKeyError\u001b[0m                                  Traceback (most recent call last)",
      "Cell \u001b[1;32mIn[10], line 1\u001b[0m\n\u001b[1;32m----> 1\u001b[0m \u001b[43mdata\u001b[49m\u001b[43m[\u001b[49m\u001b[38;5;124;43m\"\u001b[39;49m\u001b[38;5;124;43mname\u001b[39;49m\u001b[38;5;124;43m\"\u001b[39;49m\u001b[43m]\u001b[49m\n",
      "\u001b[1;31mKeyError\u001b[0m: 'name'"
     ]
    }
   ],
   "source": [
    "data[\"name\"]"
   ]
  }
 ],
 "metadata": {
  "kernelspec": {
   "display_name": ".venv",
   "language": "python",
   "name": "python3"
  },
  "language_info": {
   "codemirror_mode": {
    "name": "ipython",
    "version": 3
   },
   "file_extension": ".py",
   "mimetype": "text/x-python",
   "name": "python",
   "nbconvert_exporter": "python",
   "pygments_lexer": "ipython3",
   "version": "3.12.5"
  }
 },
 "nbformat": 4,
 "nbformat_minor": 2
}
